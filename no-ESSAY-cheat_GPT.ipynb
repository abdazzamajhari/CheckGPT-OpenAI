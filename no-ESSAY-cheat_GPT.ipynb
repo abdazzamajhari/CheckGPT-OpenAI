{
 "cells": [
  {
   "cell_type": "code",
   "execution_count": 1,
   "id": "9b4d08e1-cb60-4b9c-b455-810f5aab5c8a",
   "metadata": {},
   "outputs": [
    {
     "name": "stdout",
     "output_type": "stream",
     "text": [
      "Requirement already satisfied: torch in /Users/bgbedul/opt/anaconda3/envs/check-gpt/lib/python3.9/site-packages (1.13.1)\n",
      "Requirement already satisfied: torchvision in /Users/bgbedul/opt/anaconda3/envs/check-gpt/lib/python3.9/site-packages (0.14.1)\n",
      "Requirement already satisfied: typing-extensions in /Users/bgbedul/opt/anaconda3/envs/check-gpt/lib/python3.9/site-packages (from torch) (4.4.0)\n",
      "Requirement already satisfied: numpy in /Users/bgbedul/opt/anaconda3/envs/check-gpt/lib/python3.9/site-packages (from torchvision) (1.24.1)\n",
      "Requirement already satisfied: requests in /Users/bgbedul/opt/anaconda3/envs/check-gpt/lib/python3.9/site-packages (from torchvision) (2.28.1)\n",
      "Requirement already satisfied: pillow!=8.3.*,>=5.3.0 in /Users/bgbedul/opt/anaconda3/envs/check-gpt/lib/python3.9/site-packages (from torchvision) (9.3.0)\n",
      "Requirement already satisfied: idna<4,>=2.5 in /Users/bgbedul/opt/anaconda3/envs/check-gpt/lib/python3.9/site-packages (from requests->torchvision) (2.10)\n",
      "Requirement already satisfied: certifi>=2017.4.17 in /Users/bgbedul/opt/anaconda3/envs/check-gpt/lib/python3.9/site-packages (from requests->torchvision) (2022.12.7)\n",
      "Requirement already satisfied: charset-normalizer<3,>=2 in /Users/bgbedul/opt/anaconda3/envs/check-gpt/lib/python3.9/site-packages (from requests->torchvision) (2.0.4)\n",
      "Requirement already satisfied: urllib3<1.27,>=1.21.1 in /Users/bgbedul/opt/anaconda3/envs/check-gpt/lib/python3.9/site-packages (from requests->torchvision) (1.26.13)\n"
     ]
    }
   ],
   "source": [
    "!pip3 install torch torchvision"
   ]
  },
  {
   "cell_type": "code",
   "execution_count": 2,
   "id": "fd319962-070e-4125-92ee-28ac819015d8",
   "metadata": {},
   "outputs": [
    {
     "name": "stdout",
     "output_type": "stream",
     "text": [
      "Requirement already satisfied: transformers in /Users/bgbedul/opt/anaconda3/envs/check-gpt/lib/python3.9/site-packages (4.25.1)\n",
      "Requirement already satisfied: tqdm>=4.27 in /Users/bgbedul/opt/anaconda3/envs/check-gpt/lib/python3.9/site-packages (from transformers) (4.64.1)\n",
      "Requirement already satisfied: requests in /Users/bgbedul/opt/anaconda3/envs/check-gpt/lib/python3.9/site-packages (from transformers) (2.28.1)\n",
      "Requirement already satisfied: huggingface-hub<1.0,>=0.10.0 in /Users/bgbedul/opt/anaconda3/envs/check-gpt/lib/python3.9/site-packages (from transformers) (0.11.1)\n",
      "Requirement already satisfied: tokenizers!=0.11.3,<0.14,>=0.11.1 in /Users/bgbedul/opt/anaconda3/envs/check-gpt/lib/python3.9/site-packages (from transformers) (0.13.2)\n",
      "Requirement already satisfied: regex!=2019.12.17 in /Users/bgbedul/opt/anaconda3/envs/check-gpt/lib/python3.9/site-packages (from transformers) (2022.10.31)\n",
      "Requirement already satisfied: pyyaml>=5.1 in /Users/bgbedul/opt/anaconda3/envs/check-gpt/lib/python3.9/site-packages (from transformers) (6.0)\n",
      "Requirement already satisfied: packaging>=20.0 in /Users/bgbedul/opt/anaconda3/envs/check-gpt/lib/python3.9/site-packages (from transformers) (22.0)\n",
      "Requirement already satisfied: filelock in /Users/bgbedul/opt/anaconda3/envs/check-gpt/lib/python3.9/site-packages (from transformers) (3.9.0)\n",
      "Requirement already satisfied: numpy>=1.17 in /Users/bgbedul/opt/anaconda3/envs/check-gpt/lib/python3.9/site-packages (from transformers) (1.24.1)\n",
      "Requirement already satisfied: typing-extensions>=3.7.4.3 in /Users/bgbedul/opt/anaconda3/envs/check-gpt/lib/python3.9/site-packages (from huggingface-hub<1.0,>=0.10.0->transformers) (4.4.0)\n",
      "Requirement already satisfied: certifi>=2017.4.17 in /Users/bgbedul/opt/anaconda3/envs/check-gpt/lib/python3.9/site-packages (from requests->transformers) (2022.12.7)\n",
      "Requirement already satisfied: urllib3<1.27,>=1.21.1 in /Users/bgbedul/opt/anaconda3/envs/check-gpt/lib/python3.9/site-packages (from requests->transformers) (1.26.13)\n",
      "Requirement already satisfied: charset-normalizer<3,>=2 in /Users/bgbedul/opt/anaconda3/envs/check-gpt/lib/python3.9/site-packages (from requests->transformers) (2.0.4)\n",
      "Requirement already satisfied: idna<4,>=2.5 in /Users/bgbedul/opt/anaconda3/envs/check-gpt/lib/python3.9/site-packages (from requests->transformers) (2.10)\n"
     ]
    }
   ],
   "source": [
    "!pip3 install transformers"
   ]
  },
  {
   "cell_type": "code",
   "execution_count": 3,
   "id": "39652fc2-901e-4cd2-8d89-d90f1532dac8",
   "metadata": {},
   "outputs": [
    {
     "name": "stdout",
     "output_type": "stream",
     "text": [
      "Requirement already satisfied: googletrans==3.1.0a0 in /Users/bgbedul/opt/anaconda3/envs/check-gpt/lib/python3.9/site-packages (3.1.0a0)\n",
      "Requirement already satisfied: httpx==0.13.3 in /Users/bgbedul/opt/anaconda3/envs/check-gpt/lib/python3.9/site-packages (from googletrans==3.1.0a0) (0.13.3)\n",
      "Requirement already satisfied: chardet==3.* in /Users/bgbedul/opt/anaconda3/envs/check-gpt/lib/python3.9/site-packages (from httpx==0.13.3->googletrans==3.1.0a0) (3.0.4)\n",
      "Requirement already satisfied: certifi in /Users/bgbedul/opt/anaconda3/envs/check-gpt/lib/python3.9/site-packages (from httpx==0.13.3->googletrans==3.1.0a0) (2022.12.7)\n",
      "Requirement already satisfied: sniffio in /Users/bgbedul/opt/anaconda3/envs/check-gpt/lib/python3.9/site-packages (from httpx==0.13.3->googletrans==3.1.0a0) (1.2.0)\n",
      "Requirement already satisfied: hstspreload in /Users/bgbedul/opt/anaconda3/envs/check-gpt/lib/python3.9/site-packages (from httpx==0.13.3->googletrans==3.1.0a0) (2022.12.1)\n",
      "Requirement already satisfied: rfc3986<2,>=1.3 in /Users/bgbedul/opt/anaconda3/envs/check-gpt/lib/python3.9/site-packages (from httpx==0.13.3->googletrans==3.1.0a0) (1.5.0)\n",
      "Requirement already satisfied: idna==2.* in /Users/bgbedul/opt/anaconda3/envs/check-gpt/lib/python3.9/site-packages (from httpx==0.13.3->googletrans==3.1.0a0) (2.10)\n",
      "Requirement already satisfied: httpcore==0.9.* in /Users/bgbedul/opt/anaconda3/envs/check-gpt/lib/python3.9/site-packages (from httpx==0.13.3->googletrans==3.1.0a0) (0.9.1)\n",
      "Requirement already satisfied: h11<0.10,>=0.8 in /Users/bgbedul/opt/anaconda3/envs/check-gpt/lib/python3.9/site-packages (from httpcore==0.9.*->httpx==0.13.3->googletrans==3.1.0a0) (0.9.0)\n",
      "Requirement already satisfied: h2==3.* in /Users/bgbedul/opt/anaconda3/envs/check-gpt/lib/python3.9/site-packages (from httpcore==0.9.*->httpx==0.13.3->googletrans==3.1.0a0) (3.2.0)\n",
      "Requirement already satisfied: hyperframe<6,>=5.2.0 in /Users/bgbedul/opt/anaconda3/envs/check-gpt/lib/python3.9/site-packages (from h2==3.*->httpcore==0.9.*->httpx==0.13.3->googletrans==3.1.0a0) (5.2.0)\n",
      "Requirement already satisfied: hpack<4,>=3.0 in /Users/bgbedul/opt/anaconda3/envs/check-gpt/lib/python3.9/site-packages (from h2==3.*->httpcore==0.9.*->httpx==0.13.3->googletrans==3.1.0a0) (3.0.0)\n"
     ]
    }
   ],
   "source": [
    "!pip3 install googletrans==3.1.0a0"
   ]
  },
  {
   "cell_type": "code",
   "execution_count": 4,
   "id": "00e39221-0901-4abd-b959-7e7c8f0a8582",
   "metadata": {},
   "outputs": [
    {
     "name": "stdout",
     "output_type": "stream",
     "text": [
      "Requirement already satisfied: ipywidgets in /Users/bgbedul/opt/anaconda3/envs/check-gpt/lib/python3.9/site-packages (8.0.4)\n",
      "Requirement already satisfied: traitlets>=4.3.1 in /Users/bgbedul/opt/anaconda3/envs/check-gpt/lib/python3.9/site-packages (from ipywidgets) (5.7.1)\n",
      "Requirement already satisfied: ipykernel>=4.5.1 in /Users/bgbedul/opt/anaconda3/envs/check-gpt/lib/python3.9/site-packages (from ipywidgets) (6.15.2)\n",
      "Requirement already satisfied: ipython>=6.1.0 in /Users/bgbedul/opt/anaconda3/envs/check-gpt/lib/python3.9/site-packages (from ipywidgets) (8.7.0)\n",
      "Requirement already satisfied: jupyterlab-widgets~=3.0 in /Users/bgbedul/opt/anaconda3/envs/check-gpt/lib/python3.9/site-packages (from ipywidgets) (3.0.5)\n",
      "Requirement already satisfied: widgetsnbextension~=4.0 in /Users/bgbedul/opt/anaconda3/envs/check-gpt/lib/python3.9/site-packages (from ipywidgets) (4.0.5)\n",
      "Requirement already satisfied: packaging in /Users/bgbedul/opt/anaconda3/envs/check-gpt/lib/python3.9/site-packages (from ipykernel>=4.5.1->ipywidgets) (22.0)\n",
      "Requirement already satisfied: pyzmq>=17 in /Users/bgbedul/opt/anaconda3/envs/check-gpt/lib/python3.9/site-packages (from ipykernel>=4.5.1->ipywidgets) (23.2.0)\n",
      "Requirement already satisfied: nest-asyncio in /Users/bgbedul/opt/anaconda3/envs/check-gpt/lib/python3.9/site-packages (from ipykernel>=4.5.1->ipywidgets) (1.5.5)\n",
      "Requirement already satisfied: debugpy>=1.0 in /Users/bgbedul/opt/anaconda3/envs/check-gpt/lib/python3.9/site-packages (from ipykernel>=4.5.1->ipywidgets) (1.5.1)\n",
      "Requirement already satisfied: appnope in /Users/bgbedul/opt/anaconda3/envs/check-gpt/lib/python3.9/site-packages (from ipykernel>=4.5.1->ipywidgets) (0.1.2)\n",
      "Requirement already satisfied: tornado>=6.1 in /Users/bgbedul/opt/anaconda3/envs/check-gpt/lib/python3.9/site-packages (from ipykernel>=4.5.1->ipywidgets) (6.2)\n",
      "Requirement already satisfied: matplotlib-inline>=0.1 in /Users/bgbedul/opt/anaconda3/envs/check-gpt/lib/python3.9/site-packages (from ipykernel>=4.5.1->ipywidgets) (0.1.6)\n",
      "Requirement already satisfied: jupyter-client>=6.1.12 in /Users/bgbedul/opt/anaconda3/envs/check-gpt/lib/python3.9/site-packages (from ipykernel>=4.5.1->ipywidgets) (7.4.8)\n",
      "Requirement already satisfied: psutil in /Users/bgbedul/opt/anaconda3/envs/check-gpt/lib/python3.9/site-packages (from ipykernel>=4.5.1->ipywidgets) (5.9.0)\n",
      "Requirement already satisfied: pickleshare in /Users/bgbedul/opt/anaconda3/envs/check-gpt/lib/python3.9/site-packages (from ipython>=6.1.0->ipywidgets) (0.7.5)\n",
      "Requirement already satisfied: decorator in /Users/bgbedul/opt/anaconda3/envs/check-gpt/lib/python3.9/site-packages (from ipython>=6.1.0->ipywidgets) (5.1.1)\n",
      "Requirement already satisfied: pygments>=2.4.0 in /Users/bgbedul/opt/anaconda3/envs/check-gpt/lib/python3.9/site-packages (from ipython>=6.1.0->ipywidgets) (2.11.2)\n",
      "Requirement already satisfied: stack-data in /Users/bgbedul/opt/anaconda3/envs/check-gpt/lib/python3.9/site-packages (from ipython>=6.1.0->ipywidgets) (0.2.0)\n",
      "Requirement already satisfied: prompt-toolkit<3.1.0,>=3.0.11 in /Users/bgbedul/opt/anaconda3/envs/check-gpt/lib/python3.9/site-packages (from ipython>=6.1.0->ipywidgets) (3.0.20)\n",
      "Requirement already satisfied: pexpect>4.3 in /Users/bgbedul/opt/anaconda3/envs/check-gpt/lib/python3.9/site-packages (from ipython>=6.1.0->ipywidgets) (4.8.0)\n",
      "Requirement already satisfied: backcall in /Users/bgbedul/opt/anaconda3/envs/check-gpt/lib/python3.9/site-packages (from ipython>=6.1.0->ipywidgets) (0.2.0)\n",
      "Requirement already satisfied: jedi>=0.16 in /Users/bgbedul/opt/anaconda3/envs/check-gpt/lib/python3.9/site-packages (from ipython>=6.1.0->ipywidgets) (0.18.1)\n",
      "Requirement already satisfied: parso<0.9.0,>=0.8.0 in /Users/bgbedul/opt/anaconda3/envs/check-gpt/lib/python3.9/site-packages (from jedi>=0.16->ipython>=6.1.0->ipywidgets) (0.8.3)\n",
      "Requirement already satisfied: python-dateutil>=2.8.2 in /Users/bgbedul/opt/anaconda3/envs/check-gpt/lib/python3.9/site-packages (from jupyter-client>=6.1.12->ipykernel>=4.5.1->ipywidgets) (2.8.2)\n",
      "Requirement already satisfied: jupyter-core>=4.9.2 in /Users/bgbedul/opt/anaconda3/envs/check-gpt/lib/python3.9/site-packages (from jupyter-client>=6.1.12->ipykernel>=4.5.1->ipywidgets) (4.11.2)\n",
      "Requirement already satisfied: entrypoints in /Users/bgbedul/opt/anaconda3/envs/check-gpt/lib/python3.9/site-packages (from jupyter-client>=6.1.12->ipykernel>=4.5.1->ipywidgets) (0.4)\n",
      "Requirement already satisfied: ptyprocess>=0.5 in /Users/bgbedul/opt/anaconda3/envs/check-gpt/lib/python3.9/site-packages (from pexpect>4.3->ipython>=6.1.0->ipywidgets) (0.7.0)\n",
      "Requirement already satisfied: wcwidth in /Users/bgbedul/opt/anaconda3/envs/check-gpt/lib/python3.9/site-packages (from prompt-toolkit<3.1.0,>=3.0.11->ipython>=6.1.0->ipywidgets) (0.2.5)\n",
      "Requirement already satisfied: pure-eval in /Users/bgbedul/opt/anaconda3/envs/check-gpt/lib/python3.9/site-packages (from stack-data->ipython>=6.1.0->ipywidgets) (0.2.2)\n",
      "Requirement already satisfied: asttokens in /Users/bgbedul/opt/anaconda3/envs/check-gpt/lib/python3.9/site-packages (from stack-data->ipython>=6.1.0->ipywidgets) (2.0.5)\n",
      "Requirement already satisfied: executing in /Users/bgbedul/opt/anaconda3/envs/check-gpt/lib/python3.9/site-packages (from stack-data->ipython>=6.1.0->ipywidgets) (0.8.3)\n",
      "Requirement already satisfied: six>=1.5 in /Users/bgbedul/opt/anaconda3/envs/check-gpt/lib/python3.9/site-packages (from python-dateutil>=2.8.2->jupyter-client>=6.1.12->ipykernel>=4.5.1->ipywidgets) (1.16.0)\n"
     ]
    }
   ],
   "source": [
    "!pip3 install ipywidgets"
   ]
  },
  {
   "cell_type": "code",
   "execution_count": 5,
   "id": "83eea337-8680-4658-ba85-b1316921f7ca",
   "metadata": {},
   "outputs": [
    {
     "name": "stdout",
     "output_type": "stream",
     "text": [
      "Requirement already satisfied: torchmetrics in /Users/bgbedul/opt/anaconda3/envs/check-gpt/lib/python3.9/site-packages (0.11.0)\n",
      "Requirement already satisfied: numpy>=1.17.2 in /Users/bgbedul/opt/anaconda3/envs/check-gpt/lib/python3.9/site-packages (from torchmetrics) (1.24.1)\n",
      "Requirement already satisfied: packaging in /Users/bgbedul/opt/anaconda3/envs/check-gpt/lib/python3.9/site-packages (from torchmetrics) (22.0)\n",
      "Requirement already satisfied: torch>=1.8.1 in /Users/bgbedul/opt/anaconda3/envs/check-gpt/lib/python3.9/site-packages (from torchmetrics) (1.13.1)\n",
      "Requirement already satisfied: typing-extensions in /Users/bgbedul/opt/anaconda3/envs/check-gpt/lib/python3.9/site-packages (from torch>=1.8.1->torchmetrics) (4.4.0)\n"
     ]
    }
   ],
   "source": [
    "!pip3 install torchmetrics"
   ]
  },
  {
   "cell_type": "code",
   "execution_count": 6,
   "id": "afa80547-1ae5-4506-bce8-807b897b0035",
   "metadata": {},
   "outputs": [],
   "source": [
    "## Documentation: \n",
    "### https://huggingface.co/roberta-base-openai-detector#evaluation\n",
    "### https://huggingface.co/docs/transformers/v4.25.1/en/model_doc/roberta#transformers.RobertaForSequenceClassification\n",
    "### https://www.educative.io/answers/how-do-you-translate-text-using-python"
   ]
  },
  {
   "cell_type": "code",
   "execution_count": 7,
   "id": "f5324cfa-301b-401e-aa54-871e468cde73",
   "metadata": {},
   "outputs": [
    {
     "name": "stderr",
     "output_type": "stream",
     "text": [
      "Some weights of the model checkpoint at roberta-base-openai-detector were not used when initializing RobertaForSequenceClassification: ['roberta.pooler.dense.weight', 'roberta.pooler.dense.bias']\n",
      "- This IS expected if you are initializing RobertaForSequenceClassification from the checkpoint of a model trained on another task or with another architecture (e.g. initializing a BertForSequenceClassification model from a BertForPreTraining model).\n",
      "- This IS NOT expected if you are initializing RobertaForSequenceClassification from the checkpoint of a model that you expect to be exactly identical (initializing a BertForSequenceClassification model from a BertForSequenceClassification model).\n"
     ]
    }
   ],
   "source": [
    "import torch\n",
    "from transformers import AutoTokenizer, AutoModelForSequenceClassification\n",
    "from googletrans import Translator\n",
    "\n",
    "tokenizer = AutoTokenizer.from_pretrained(\"roberta-base-openai-detector\")\n",
    "\n",
    "model = AutoModelForSequenceClassification.from_pretrained(\"roberta-base-openai-detector\")"
   ]
  },
  {
   "cell_type": "code",
   "execution_count": 8,
   "id": "37af6795-b316-4eaf-ad8b-8eb2236fda60",
   "metadata": {},
   "outputs": [
    {
     "name": "stdout",
     "output_type": "stream",
     "text": [
      " Untuk menonaktifkan Cross-Site Scripting (XSS) pada aplikasi Flask, Anda dapat menggunakan fitur Cross-Site Request Forgery (CSRF) yang disediakan oleh Flask. CSRF merupakan serangan yang mencoba menggunakan kelemahan pada aplikasi web untuk mengirimkan permintaan yang tidak diminta dari seorang pengguna. Berikut adalah contoh penggunaan fitur CSRF pada aplikasi Flask:  Pertama, pastikan Anda telah mengimpor modul Flask-WTF dengan menambahkan baris berikut di bagian atas file Python:\n"
     ]
    },
    {
     "name": "stdout",
     "output_type": "stream",
     "text": [
      "Translated(src=id, dest=en, text=To disable Cross-Site Scripting (XSS) in your Flask application, you can use the Cross-Site Request Forgery (CSRF) feature provided by Flask. CSRF is an attack that attempts to use a weakness in a web application to send unsolicited requests from a user. Here is an example of using the CSRF feature in a Flask application: First, ensure that you have imported the Flask-WTF module by adding the following line at the top of the Python file:, pronunciation=[[]], extra_data=\"{'translat...\")\n"
     ]
    },
    {
     "data": {
      "text/plain": [
       "'Fake'"
      ]
     },
     "execution_count": 8,
     "metadata": {},
     "output_type": "execute_result"
    }
   ],
   "source": [
    "# words = \"input here\"\n",
    "\n",
    "words = input(\"\")\n",
    "\n",
    "translator = Translator()\n",
    "translated_text = translator.translate(words, dest='en')\n",
    "print(translated_text)\n",
    "\n",
    "inputs = tokenizer(translated_text.text, return_tensors=\"pt\")\n",
    "\n",
    "with torch.no_grad():\n",
    "    logits = model(**inputs).logits\n",
    "\n",
    "predicted_class_id = logits.argmax().item()\n",
    "model.config.id2label[predicted_class_id]"
   ]
  },
  {
   "cell_type": "code",
   "execution_count": 9,
   "id": "d0eeda1c-c6ec-45dc-9e57-8dd0c95baef0",
   "metadata": {},
   "outputs": [],
   "source": [
    "## "
   ]
  },
  {
   "cell_type": "code",
   "execution_count": 10,
   "id": "a678f65a-33c5-400b-9119-582495c2aa0f",
   "metadata": {},
   "outputs": [
    {
     "data": {
      "text/plain": [
       "tensor(1.)"
      ]
     },
     "execution_count": 10,
     "metadata": {},
     "output_type": "execute_result"
    }
   ],
   "source": [
    "from torchmetrics.classification import BinaryAccuracy\n",
    "\n",
    "target = torch.tensor([predicted_class_id])\n",
    "preds = torch.tensor([predicted_class_id])\n",
    "metric = BinaryAccuracy()\n",
    "metric(preds, target)"
   ]
  },
  {
   "cell_type": "code",
   "execution_count": 11,
   "id": "8c00555e-c929-4da0-b62f-8df871b31034",
   "metadata": {},
   "outputs": [
    {
     "data": {
      "text/plain": [
       "{'input_ids': tensor([[    0,  3972, 33022,  4415,    12, 40122, 32175,   154,    36,  1000,\n",
       "          8108,    43,    11,   110, 48042,  2502,     6,    47,    64,   304,\n",
       "             5,  4415,    12, 40122, 18593,   286, 21712,    36,  6842, 30455,\n",
       "            43,  1905,  1286,    30, 48042,     4,  7038, 30455,    16,    41,\n",
       "           908,    14,  3881,     7,   304,    10,  8269,    11,    10,  3748,\n",
       "          2502,     7,  2142,  9977, 33358,  5034,    31,    10,  3018,     4,\n",
       "          1398,    16,    41,  1246,     9,   634,     5,  7038, 30455,  1905,\n",
       "            11,    10, 48042,  2502,    35,  1234,     6,  1306,    14,    47,\n",
       "            33, 10590,     5, 48042,    12,   771, 20249, 20686,    30,  1271,\n",
       "             5,   511,   516,    23,     5,   299,     9,     5, 31886,  2870,\n",
       "            35,     2]]), 'attention_mask': tensor([[1, 1, 1, 1, 1, 1, 1, 1, 1, 1, 1, 1, 1, 1, 1, 1, 1, 1, 1, 1, 1, 1, 1, 1,\n",
       "         1, 1, 1, 1, 1, 1, 1, 1, 1, 1, 1, 1, 1, 1, 1, 1, 1, 1, 1, 1, 1, 1, 1, 1,\n",
       "         1, 1, 1, 1, 1, 1, 1, 1, 1, 1, 1, 1, 1, 1, 1, 1, 1, 1, 1, 1, 1, 1, 1, 1,\n",
       "         1, 1, 1, 1, 1, 1, 1, 1, 1, 1, 1, 1, 1, 1, 1, 1, 1, 1, 1, 1, 1, 1, 1, 1,\n",
       "         1, 1, 1, 1, 1, 1]])}"
      ]
     },
     "execution_count": 11,
     "metadata": {},
     "output_type": "execute_result"
    }
   ],
   "source": [
    "inputs"
   ]
  },
  {
   "cell_type": "code",
   "execution_count": 12,
   "id": "e62d9f28-e1ff-40e7-b464-00408061d65a",
   "metadata": {},
   "outputs": [
    {
     "data": {
      "text/plain": [
       "tensor([[ 2.4567, -2.3232]])"
      ]
     },
     "execution_count": 12,
     "metadata": {},
     "output_type": "execute_result"
    }
   ],
   "source": [
    "logits"
   ]
  },
  {
   "cell_type": "code",
   "execution_count": 13,
   "id": "4a657bcd-a039-47bc-8417-dedcdc723928",
   "metadata": {},
   "outputs": [
    {
     "data": {
      "text/plain": [
       "0"
      ]
     },
     "execution_count": 13,
     "metadata": {},
     "output_type": "execute_result"
    }
   ],
   "source": [
    "predicted_class_id"
   ]
  },
  {
   "cell_type": "code",
   "execution_count": null,
   "id": "7b500172-4c2b-4890-bff6-30b4704f43f4",
   "metadata": {},
   "outputs": [],
   "source": []
  }
 ],
 "metadata": {
  "kernelspec": {
   "display_name": "Python 3",
   "language": "python",
   "name": "python3"
  },
  "language_info": {
   "codemirror_mode": {
    "name": "ipython",
    "version": 3
   },
   "file_extension": ".py",
   "mimetype": "text/x-python",
   "name": "python",
   "nbconvert_exporter": "python",
   "pygments_lexer": "ipython3",
   "version": "3.9.6 (default, Oct 18 2022, 12:41:40) \n[Clang 14.0.0 (clang-1400.0.29.202)]"
  },
  "vscode": {
   "interpreter": {
    "hash": "31f2aee4e71d21fbe5cf8b01ff0e069b9275f58929596ceb00d14d90e3e16cd6"
   }
  }
 },
 "nbformat": 4,
 "nbformat_minor": 5
}
